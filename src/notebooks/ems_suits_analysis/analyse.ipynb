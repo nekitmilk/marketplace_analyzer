{
 "cells": [
  {
   "cell_type": "code",
   "execution_count": 1,
   "id": "a305dd9d",
   "metadata": {},
   "outputs": [],
   "source": [
    "import sys; sys.path.append('../../') \n",
    "\n",
    "from utils.data_cleaner import *\n",
    "from data_collection_config import *\n",
    "import matplotlib.pyplot as plt\n",
    "import seaborn as sns\n",
    "import numpy as np\n",
    "import pandas as pd"
   ]
  },
  {
   "cell_type": "markdown",
   "id": "6e4c88ac",
   "metadata": {},
   "source": [
    "### Чтение и подготовка данных"
   ]
  },
  {
   "cell_type": "code",
   "execution_count": null,
   "id": "df4b6285",
   "metadata": {},
   "outputs": [],
   "source": [
    "Goods = pd.read_csv(f'{CLEAR_DIRECTORY}{CLEAR_GOODS_FILE}')\n",
    "Other_characteristicks = pd.read_csv(f'{CLEAR_DIRECTORY}{CLEAR_OTHER_CHARACTERISTICKS_FILE}')\n",
    "\n",
    "def prepare_goods(df):\n",
    "    df['brand'] = df['brand'].fillna('Unknown')\n",
    "    df['description'] = df['description'].fillna('')\n",
    "    df['brand'] = df['brand'].str.lower().str.strip()\n",
    "    \n",
    "    return df\n",
    "\n",
    "def prepare_other_chars(df):\n",
    "    df['name'] = df['name'].str.lower().str.strip()\n",
    "    df['value'] = df['value'].str.lower().str.strip()\n",
    "    \n",
    "    df = df[df['value'].notna() & (df['value'] != '')]\n",
    "    \n",
    "    return df\n",
    "\n",
    "\n",
    "Goods = prepare_goods(Goods)\n",
    "Other_characteristicks = prepare_other_chars(Other_characteristicks)\n",
    "\n",
    "# Goods.info()\n",
    "# Other_characteristicks.info()\n",
    "# Feedbacks.info()"
   ]
  },
  {
   "cell_type": "code",
   "execution_count": 5,
   "id": "9e1dd907",
   "metadata": {},
   "outputs": [
    {
     "name": "stdout",
     "output_type": "stream",
     "text": [
      "<class 'pandas.core.frame.DataFrame'>\n",
      "RangeIndex: 159 entries, 0 to 158\n",
      "Data columns (total 3 columns):\n",
      " #   Column  Non-Null Count  Dtype \n",
      "---  ------  --------------  ----- \n",
      " 0   url     159 non-null    object\n",
      " 1   name    159 non-null    object\n",
      " 2   value   159 non-null    object\n",
      "dtypes: object(3)\n",
      "memory usage: 3.9+ KB\n"
     ]
    }
   ],
   "source": [
    "Other_characteristicks.info()"
   ]
  },
  {
   "cell_type": "markdown",
   "id": "330a2ee1",
   "metadata": {},
   "source": [
    "## Выделение главных характеристик"
   ]
  },
  {
   "cell_type": "code",
   "execution_count": 6,
   "id": "c5d2da5b",
   "metadata": {},
   "outputs": [
    {
     "name": "stdout",
     "output_type": "stream",
     "text": [
      "Всего уникальных характеристик: 15\n",
      "name\n",
      "количество каналов                                                14\n",
      "съёмные электроды                                                 14\n",
      "количество программ                                               14\n",
      "система учета                                                     14\n",
      "страна производства                                               14\n",
      "срок гарантии                                                     14\n",
      "оценка качества                                                   14\n",
      "стоимость костюма                                                 13\n",
      "количество костюмов, необходимое для коммерческой эксплуатации    12\n",
      "срок службы костюмов при большой загрузке                         12\n",
      "стоимость эксплуатации в год                                      10\n",
      "комплектация                                                       9\n",
      "стоимость коммерческой эксплуатации в год                          3\n",
      "срок службы костюма                                                1\n",
      "срок службы при большой загрузке                                   1\n",
      "Name: count, dtype: int64\n"
     ]
    }
   ],
   "source": [
    "print(\"Всего уникальных характеристик:\", Other_characteristicks['name'].nunique())\n",
    "print(Other_characteristicks['name'].value_counts().head(50))"
   ]
  },
  {
   "cell_type": "code",
   "execution_count": 10,
   "id": "b7975321",
   "metadata": {},
   "outputs": [
    {
     "data": {
      "text/html": [
       "<div>\n",
       "<style scoped>\n",
       "    .dataframe tbody tr th:only-of-type {\n",
       "        vertical-align: middle;\n",
       "    }\n",
       "\n",
       "    .dataframe tbody tr th {\n",
       "        vertical-align: top;\n",
       "    }\n",
       "\n",
       "    .dataframe thead th {\n",
       "        text-align: right;\n",
       "    }\n",
       "</style>\n",
       "<table border=\"1\" class=\"dataframe\">\n",
       "  <thead>\n",
       "    <tr style=\"text-align: right;\">\n",
       "      <th></th>\n",
       "      <th>url</th>\n",
       "      <th>количество каналов</th>\n",
       "      <th>съёмные электроды</th>\n",
       "      <th>количество программ</th>\n",
       "      <th>система учета</th>\n",
       "      <th>страна производства</th>\n",
       "      <th>срок службы костюмов при большой загрузке</th>\n",
       "    </tr>\n",
       "  </thead>\n",
       "  <tbody>\n",
       "    <tr>\n",
       "      <th>0</th>\n",
       "      <td>https://emsnoble.ru/catalog/for-home/</td>\n",
       "      <td>NaN</td>\n",
       "      <td>NaN</td>\n",
       "      <td>NaN</td>\n",
       "      <td>NaN</td>\n",
       "      <td>NaN</td>\n",
       "      <td>NaN</td>\n",
       "    </tr>\n",
       "    <tr>\n",
       "      <th>1</th>\n",
       "      <td>https://shopems.ru/ems-oborudovanie/amplicube</td>\n",
       "      <td>8</td>\n",
       "      <td>✔</td>\n",
       "      <td>30</td>\n",
       "      <td>✔</td>\n",
       "      <td>германия</td>\n",
       "      <td>12 месяцев</td>\n",
       "    </tr>\n",
       "    <tr>\n",
       "      <th>2</th>\n",
       "      <td>https://shopems.ru/ems-oborudovanie/amplitrain</td>\n",
       "      <td>6</td>\n",
       "      <td>✔</td>\n",
       "      <td>35</td>\n",
       "      <td>✔</td>\n",
       "      <td>германия</td>\n",
       "      <td>12 месяцев</td>\n",
       "    </tr>\n",
       "    <tr>\n",
       "      <th>3</th>\n",
       "      <td>https://shopems.ru/ems-oborudovanie/aq8</td>\n",
       "      <td>10</td>\n",
       "      <td>нет</td>\n",
       "      <td>4</td>\n",
       "      <td>нет</td>\n",
       "      <td>испания-китай</td>\n",
       "      <td>12 месяцев</td>\n",
       "    </tr>\n",
       "    <tr>\n",
       "      <th>4</th>\n",
       "      <td>https://shopems.ru/ems-oborudovanie/easymotion...</td>\n",
       "      <td>8</td>\n",
       "      <td>нет</td>\n",
       "      <td>4</td>\n",
       "      <td>✔</td>\n",
       "      <td>германия</td>\n",
       "      <td>6-12 месяцев</td>\n",
       "    </tr>\n",
       "    <tr>\n",
       "      <th>5</th>\n",
       "      <td>https://shopems.ru/ems-oborudovanie/imotion</td>\n",
       "      <td>10</td>\n",
       "      <td>✔</td>\n",
       "      <td>10</td>\n",
       "      <td>нет</td>\n",
       "      <td>испания</td>\n",
       "      <td>12 месяцев</td>\n",
       "    </tr>\n",
       "    <tr>\n",
       "      <th>6</th>\n",
       "      <td>https://shopems.ru/ems-oborudovanie/innline</td>\n",
       "      <td>11</td>\n",
       "      <td>✔</td>\n",
       "      <td>4</td>\n",
       "      <td>нет</td>\n",
       "      <td>польша</td>\n",
       "      <td>24 месяца</td>\n",
       "    </tr>\n",
       "    <tr>\n",
       "      <th>7</th>\n",
       "      <td>https://shopems.ru/ems-oborudovanie/justfit</td>\n",
       "      <td>10</td>\n",
       "      <td>✔</td>\n",
       "      <td>4</td>\n",
       "      <td>✔</td>\n",
       "      <td>венгрия</td>\n",
       "      <td>24 месяца</td>\n",
       "    </tr>\n",
       "    <tr>\n",
       "      <th>8</th>\n",
       "      <td>https://shopems.ru/ems-oborudovanie/justfithome</td>\n",
       "      <td>11</td>\n",
       "      <td>нет</td>\n",
       "      <td>9</td>\n",
       "      <td>✔</td>\n",
       "      <td>венгрия</td>\n",
       "      <td>NaN</td>\n",
       "    </tr>\n",
       "    <tr>\n",
       "      <th>9</th>\n",
       "      <td>https://shopems.ru/ems-oborudovanie/miha-bodytec</td>\n",
       "      <td>10</td>\n",
       "      <td>нет</td>\n",
       "      <td>10</td>\n",
       "      <td>✔</td>\n",
       "      <td>германия</td>\n",
       "      <td>24 месяца</td>\n",
       "    </tr>\n",
       "    <tr>\n",
       "      <th>10</th>\n",
       "      <td>https://shopems.ru/ems-oborudovanie/stimawell-...</td>\n",
       "      <td>12</td>\n",
       "      <td>✔</td>\n",
       "      <td>70</td>\n",
       "      <td>✔</td>\n",
       "      <td>германия</td>\n",
       "      <td>NaN</td>\n",
       "    </tr>\n",
       "    <tr>\n",
       "      <th>11</th>\n",
       "      <td>https://shopems.ru/ems-oborudovanie/visionbody</td>\n",
       "      <td>8</td>\n",
       "      <td>нет</td>\n",
       "      <td>4</td>\n",
       "      <td>✔</td>\n",
       "      <td>германия</td>\n",
       "      <td>12 месяцев</td>\n",
       "    </tr>\n",
       "    <tr>\n",
       "      <th>12</th>\n",
       "      <td>https://shopems.ru/ems-oborudovanie/xbody-acti...</td>\n",
       "      <td>12</td>\n",
       "      <td>✔</td>\n",
       "      <td>4</td>\n",
       "      <td>✔</td>\n",
       "      <td>венгрия</td>\n",
       "      <td>36 месяцев</td>\n",
       "    </tr>\n",
       "    <tr>\n",
       "      <th>13</th>\n",
       "      <td>https://shopems.ru/ems-oborudovanie/xbody-acti...</td>\n",
       "      <td>12</td>\n",
       "      <td>✔</td>\n",
       "      <td>4</td>\n",
       "      <td>✔</td>\n",
       "      <td>венгрия</td>\n",
       "      <td>36 месяцев</td>\n",
       "    </tr>\n",
       "    <tr>\n",
       "      <th>14</th>\n",
       "      <td>https://shopems.ru/ems-oborudovanie/xbody-newave</td>\n",
       "      <td>10</td>\n",
       "      <td>✔</td>\n",
       "      <td>4</td>\n",
       "      <td>✔</td>\n",
       "      <td>венгрия</td>\n",
       "      <td>36 месяцев</td>\n",
       "    </tr>\n",
       "  </tbody>\n",
       "</table>\n",
       "</div>"
      ],
      "text/plain": [
       "                                                  url количество каналов  \\\n",
       "0               https://emsnoble.ru/catalog/for-home/                NaN   \n",
       "1       https://shopems.ru/ems-oborudovanie/amplicube                  8   \n",
       "2      https://shopems.ru/ems-oborudovanie/amplitrain                  6   \n",
       "3             https://shopems.ru/ems-oborudovanie/aq8                 10   \n",
       "4   https://shopems.ru/ems-oborudovanie/easymotion...                  8   \n",
       "5         https://shopems.ru/ems-oborudovanie/imotion                 10   \n",
       "6         https://shopems.ru/ems-oborudovanie/innline                 11   \n",
       "7         https://shopems.ru/ems-oborudovanie/justfit                 10   \n",
       "8     https://shopems.ru/ems-oborudovanie/justfithome                 11   \n",
       "9    https://shopems.ru/ems-oborudovanie/miha-bodytec                 10   \n",
       "10  https://shopems.ru/ems-oborudovanie/stimawell-...                 12   \n",
       "11     https://shopems.ru/ems-oborudovanie/visionbody                  8   \n",
       "12  https://shopems.ru/ems-oborudovanie/xbody-acti...                 12   \n",
       "13  https://shopems.ru/ems-oborudovanie/xbody-acti...                 12   \n",
       "14   https://shopems.ru/ems-oborudovanie/xbody-newave                 10   \n",
       "\n",
       "   съёмные электроды количество программ система учета страна производства  \\\n",
       "0                NaN                 NaN           NaN                 NaN   \n",
       "1                  ✔                  30             ✔            германия   \n",
       "2                  ✔                  35             ✔            германия   \n",
       "3                нет                   4           нет       испания-китай   \n",
       "4                нет                   4             ✔            германия   \n",
       "5                  ✔                  10           нет             испания   \n",
       "6                  ✔                   4           нет              польша   \n",
       "7                  ✔                   4             ✔             венгрия   \n",
       "8                нет                   9             ✔             венгрия   \n",
       "9                нет                  10             ✔            германия   \n",
       "10                 ✔                  70             ✔            германия   \n",
       "11               нет                   4             ✔            германия   \n",
       "12                 ✔                   4             ✔             венгрия   \n",
       "13                 ✔                   4             ✔             венгрия   \n",
       "14                 ✔                   4             ✔             венгрия   \n",
       "\n",
       "   срок службы костюмов при большой загрузке  \n",
       "0                                        NaN  \n",
       "1                                 12 месяцев  \n",
       "2                                 12 месяцев  \n",
       "3                                 12 месяцев  \n",
       "4                               6-12 месяцев  \n",
       "5                                 12 месяцев  \n",
       "6                                  24 месяца  \n",
       "7                                  24 месяца  \n",
       "8                                        NaN  \n",
       "9                                  24 месяца  \n",
       "10                                       NaN  \n",
       "11                                12 месяцев  \n",
       "12                                36 месяцев  \n",
       "13                                36 месяцев  \n",
       "14                                36 месяцев  "
      ]
     },
     "execution_count": 10,
     "metadata": {},
     "output_type": "execute_result"
    }
   ],
   "source": [
    "pivot_df = Other_characteristicks.pivot_table(\n",
    "    index=['url'],\n",
    "    columns='name',\n",
    "    values='value',\n",
    "    aggfunc='first'\n",
    ").reset_index()\n",
    "\n",
    "pivot_df.columns.name = None\n",
    "\n",
    "main_specs = pivot_df[\n",
    "    [\n",
    "        'url', 'количество каналов', \n",
    "        'съёмные электроды',  'количество программ', \n",
    "        'система учета', 'страна производства',\n",
    "        'срок службы костюмов при большой загрузке'\n",
    "    ]\n",
    "]\n",
    "\n",
    "# main_specs['комплектация'] = main_specs['комплектация'].str.replace(r'\\D', '', regex=True)\n",
    "\n",
    "main_specs"
   ]
  },
  {
   "cell_type": "markdown",
   "id": "0c0c2708",
   "metadata": {},
   "source": [
    "# Анализ рынка EMS-костюмов\n",
    "\n",
    "## Введение\n",
    "\n",
    "Необходимо понять, как выглядит текущая рыночная ситуация на рынке EMS-костюмов. \n",
    "\n",
    "Были сформулированы 4 цели:\n",
    "- Определить, в каком ценовом сегменте выгоднее всего конкурировать\n",
    "- Понять, какие функции и характеристики наиболее популярны у потребителей\n",
    "- Оценить уровень конкуренции\n",
    "- Выявить возможные ниши\n",
    "\n",
    "## Описание источников и подхода к сбору данных\n",
    "\n",
    "Для достижения поставленных целей в первую очередь необходимо подготовить набор данных. Данные собраны с:\n",
    "- https://shopems.ru - поставщик ems-оборудования\n",
    "- https://emsnoble.ru - производитель ems-оборудования NobleRise\n",
    "\n",
    "С обоих площадок было собрано 18 товаров.\n",
    "\n",
    "После сбора, данные были собраны в 2 таблицы:\n",
    "- Goods (основные характеристики товаров)\n",
    "- Other_characteristics (доп. характеристики)\n",
    "\n",
    "Данное оборудование имеет высокую цену и является профессиональным оборудованием, которое как правило покупают для комерческого использования, на рынке представлено ограниченное число моделей данного оборудования. Отзывы покупателей на конкретные модели оборудования не предоставлялись в источниках."
   ]
  },
  {
   "cell_type": "markdown",
   "id": "46f78aed",
   "metadata": {},
   "source": [
    "Состав таблиц:"
   ]
  },
  {
   "cell_type": "code",
   "execution_count": 11,
   "id": "1a33291d",
   "metadata": {},
   "outputs": [
    {
     "name": "stdout",
     "output_type": "stream",
     "text": [
      "<class 'pandas.core.frame.DataFrame'>\n",
      "RangeIndex: 18 entries, 0 to 17\n",
      "Data columns (total 7 columns):\n",
      " #   Column       Non-Null Count  Dtype  \n",
      "---  ------       --------------  -----  \n",
      " 0   url          18 non-null     object \n",
      " 1   name         18 non-null     object \n",
      " 2   price        17 non-null     float64\n",
      " 3   rating       0 non-null      float64\n",
      " 4   feedbacks    0 non-null      float64\n",
      " 5   brand        18 non-null     object \n",
      " 6   description  18 non-null     object \n",
      "dtypes: float64(3), object(4)\n",
      "memory usage: 1.1+ KB\n",
      "<class 'pandas.core.frame.DataFrame'>\n",
      "RangeIndex: 159 entries, 0 to 158\n",
      "Data columns (total 3 columns):\n",
      " #   Column  Non-Null Count  Dtype \n",
      "---  ------  --------------  ----- \n",
      " 0   url     159 non-null    object\n",
      " 1   name    159 non-null    object\n",
      " 2   value   159 non-null    object\n",
      "dtypes: object(3)\n",
      "memory usage: 3.9+ KB\n"
     ]
    }
   ],
   "source": [
    "Goods.info()\n",
    "Other_characteristicks.info()"
   ]
  },
  {
   "cell_type": "markdown",
   "id": "7bc22f67",
   "metadata": {},
   "source": [
    "## Как выглядит рынок кабелей для электродов? (Распределение цен)"
   ]
  },
  {
   "cell_type": "code",
   "execution_count": 12,
   "id": "69a544ad",
   "metadata": {},
   "outputs": [
    {
     "name": "stdout",
     "output_type": "stream",
     "text": [
      "Ключевые метрики распределения цен:\n",
      "Средняя цена: 1,117,294 руб\n",
      "Медианная цена: 1,200,000 руб\n",
      "Минимальная цена: 220,000 руб\n",
      "Максимальная цена: 1,650,000 руб\n",
      "Стандартное отклонение: 383,699 руб\n",
      "95-й перцентиль: 1,558,000 руб\n"
     ]
    }
   ],
   "source": [
    "price_data = Goods['price'].copy()\n",
    "\n",
    "stats = {\n",
    "    'Средняя цена': f\"{price_data.mean():,.0f} руб\",\n",
    "    'Медианная цена': f\"{price_data.median():,.0f} руб\",\n",
    "    'Минимальная цена': f\"{price_data.min():,.0f} руб\",\n",
    "    'Максимальная цена': f\"{price_data.max():,.0f} руб\",\n",
    "    'Стандартное отклонение': f\"{price_data.std():,.0f} руб\",\n",
    "    '95-й перцентиль': f\"{price_data.quantile(0.95):,.0f} руб\"\n",
    "}\n",
    "\n",
    "print(\"Ключевые метрики распределения цен:\")\n",
    "for k, v in stats.items():\n",
    "    print(f\"{k}: {v}\")"
   ]
  },
  {
   "cell_type": "code",
   "execution_count": 15,
   "id": "46cd4918",
   "metadata": {},
   "outputs": [
    {
     "data": {
      "image/png": "[encoded data removed]",
      "text/plain": [
       "<Figure size 1400x700 with 1 Axes>"
      ]
     },
     "metadata": {},
     "output_type": "display_data"
    }
   ],
   "source": [
    "price_data = Goods[\"price\"]\n",
    "\n",
    "plt.figure(figsize=(14, 7))\n",
    "\n",
    "ax = sns.histplot(price_data, bins=50, kde=True, \n",
    "                 color='#4B77BE', edgecolor='white')\n",
    "\n",
    "mean_price = price_data.mean()\n",
    "median_price = price_data.median()\n",
    "\n",
    "plt.axvline(mean_price, color=\"#E74C3C\", linestyle='--', \n",
    "           linewidth=2, label=f'Среднее: {mean_price:,.0f} руб')\n",
    "plt.axvline(median_price, color='#27AE60', linestyle='--',\n",
    "           linewidth=2, label=f'Медиана: {median_price:,.0f} руб')\n",
    "\n",
    "plt.title('Распределение цен на рынке электростимуляторов\\n', fontsize=16)\n",
    "plt.xlabel('Цена (руб)', fontsize=12)\n",
    "plt.ylabel('Количество товаров', fontsize=12)\n",
    "plt.legend()\n",
    "plt.grid(axis='y', alpha=0.3)\n",
    "plt.ticklabel_format(style='plain', axis='x')\n",
    "plt.xticks(rotation=45)\n",
    "plt.tight_layout()\n",
    "\n",
    "plt.show()"
   ]
  },
  {
   "cell_type": "code",
   "execution_count": 24,
   "id": "45c97c19",
   "metadata": {},
   "outputs": [
    {
     "name": "stdout",
     "output_type": "stream",
     "text": [
      "Низкий ценовой сегмент: (220000, 269000)\n",
      "Средний ценовой сегмент: (900000, 990000)\n",
      "Средне-высокий ценовой сегмент:(1100000, 1200000)\n",
      "Высокий ценовой сегмент:  (1300000, 1650000)\n"
     ]
    }
   ],
   "source": [
    "price_segment_clear_df = Goods.copy()\n",
    "\n",
    "# Создаем маску для не-NaN значений\n",
    "non_na_mask = price_segment_clear_df[\"price\"].notna()\n",
    "\n",
    "# Кластеризуем только не-NaN значения\n",
    "prices = price_segment_clear_df.loc[non_na_mask, \"price\"].values.reshape(-1, 1)\n",
    "kmeans = KMeans(n_clusters=4, random_state=42).fit(prices)\n",
    "\n",
    "# Создаем колонку и заполняем только для не-NaN\n",
    "price_segment_clear_df['price_segment'] = np.nan\n",
    "price_segment_clear_df.loc[non_na_mask, 'price_segment'] = kmeans.labels_\n",
    "\n",
    "def min_max(price_segment, df):\n",
    "    return int(df[df[\"price_segment\"] == price_segment][\"price\"].min()), int(df[df[\"price_segment\"] == price_segment][\"price\"].max())\n",
    "\n",
    "min_max_segments = {}\n",
    "for i in range(4):\n",
    "    min_max_segments[i] = min_max(i, price_segment_clear_df)\n",
    "\n",
    "min_max_segments = sorted(min_max_segments.items(), key=lambda item: item[1] )\n",
    "\n",
    "print(f\"Низкий ценовой сегмент: {min_max_segments[0][1]}\")\n",
    "print(f\"Средний ценовой сегмент: {min_max_segments[1][1]}\")\n",
    "print(f\"Средне-высокий ценовой сегмент:{min_max_segments[2][1]}\")\n",
    "print(f\"Высокий ценовой сегмент:  {min_max_segments[3][1]}\")"
   ]
  },
  {
   "cell_type": "code",
   "execution_count": 27,
   "id": "b7e63e7c",
   "metadata": {},
   "outputs": [
    {
     "data": {
      "text/html": [
       "<div>\n",
       "<style scoped>\n",
       "    .dataframe tbody tr th:only-of-type {\n",
       "        vertical-align: middle;\n",
       "    }\n",
       "\n",
       "    .dataframe tbody tr th {\n",
       "        vertical-align: top;\n",
       "    }\n",
       "\n",
       "    .dataframe thead th {\n",
       "        text-align: right;\n",
       "    }\n",
       "</style>\n",
       "<table border=\"1\" class=\"dataframe\">\n",
       "  <thead>\n",
       "    <tr style=\"text-align: right;\">\n",
       "      <th></th>\n",
       "      <th>Сегмент</th>\n",
       "      <th>Кол-во товаров</th>\n",
       "      <th>Доля товаров без бренда</th>\n",
       "      <th>топ 5 брендов</th>\n",
       "    </tr>\n",
       "  </thead>\n",
       "  <tbody>\n",
       "    <tr>\n",
       "      <th>0</th>\n",
       "      <td>Низкий</td>\n",
       "      <td>2</td>\n",
       "      <td>0.0</td>\n",
       "      <td>justfit (1); noblerise (1)</td>\n",
       "    </tr>\n",
       "    <tr>\n",
       "      <th>1</th>\n",
       "      <td>Средний</td>\n",
       "      <td>3</td>\n",
       "      <td>0.0</td>\n",
       "      <td>xbody (1); amplitrain (1); aq8 (1)</td>\n",
       "    </tr>\n",
       "    <tr>\n",
       "      <th>2</th>\n",
       "      <td>Средне-высокий</td>\n",
       "      <td>5</td>\n",
       "      <td>0.0</td>\n",
       "      <td>justfit (1); innline (1); imotion (1); visionbody (1); wiemspro (1)</td>\n",
       "    </tr>\n",
       "    <tr>\n",
       "      <th>3</th>\n",
       "      <td>Высокий</td>\n",
       "      <td>7</td>\n",
       "      <td>0.0</td>\n",
       "      <td>xbody (2); stimawell (2); miha (1); loncego (1); amplicube (1)</td>\n",
       "    </tr>\n",
       "  </tbody>\n",
       "</table>\n",
       "</div>"
      ],
      "text/plain": [
       "          Сегмент  Кол-во товаров  Доля товаров без бренда  \\\n",
       "0          Низкий               2                      0.0   \n",
       "1         Средний               3                      0.0   \n",
       "2  Средне-высокий               5                      0.0   \n",
       "3         Высокий               7                      0.0   \n",
       "\n",
       "                                                         топ 5 брендов  \n",
       "0                                           justfit (1); noblerise (1)  \n",
       "1                                   xbody (1); amplitrain (1); aq8 (1)  \n",
       "2  justfit (1); innline (1); imotion (1); visionbody (1); wiemspro (1)  \n",
       "3       xbody (2); stimawell (2); miha (1); loncego (1); amplicube (1)  "
      ]
     },
     "metadata": {},
     "output_type": "display_data"
    }
   ],
   "source": [
    "import pandas as pd\n",
    "pd.set_option('display.max_colwidth', None)\n",
    "\n",
    "def top_specs(df, column, top_n, stats):\n",
    "    zones = df[column].str.split('[;,/]', expand=True).stack().str.strip()\n",
    "    top_zones = zones.value_counts().head(top_n)\n",
    "    stats.update({\n",
    "        f'топ {top_n} {column}': '; '.join([f\"{zone} ({count})\" for (zone, count) in top_zones.items()])\n",
    "    })\n",
    "\n",
    "def get_segment_stats(segment_df, segment_name, top_n):\n",
    "    stats = {\n",
    "        'Сегмент': segment_name,\n",
    "        'Кол-во товаров': len(segment_df),\n",
    "        'Доля товаров без бренда': len(segment_df[segment_df['brand'] == 'unknown']) / len(segment_df),\n",
    "    }\n",
    "    \n",
    "    # Топ брендов\n",
    "    top_brands = segment_df['brand'].value_counts().head(top_n)\n",
    "    stats.update({\n",
    "        f'топ {top_n} брендов': '; '.join([f\"{brand} ({count})\" for (brand, count) in top_brands.items()])\n",
    "    })\n",
    "    \n",
    "    return stats\n",
    "\n",
    "low_price_df = price_segment_clear_df[price_segment_clear_df[\"price_segment\"] == min_max_segments[0][0]]\n",
    "mid_price_df = price_segment_clear_df[price_segment_clear_df[\"price_segment\"] == min_max_segments[1][0]]\n",
    "mid_high_price_df = price_segment_clear_df[price_segment_clear_df[\"price_segment\"] == min_max_segments[2][0]]\n",
    "high_price_df = price_segment_clear_df[price_segment_clear_df[\"price_segment\"] == min_max_segments[3][0]]\n",
    "\n",
    "segments = {\n",
    "    'Низкий': low_price_df,\n",
    "    'Средний': mid_price_df,\n",
    "    'Средне-высокий': mid_high_price_df,\n",
    "    'Высокий': high_price_df\n",
    "}\n",
    "\n",
    "top_n = 5\n",
    "all_stats = [get_segment_stats(df, name, top_n) for name, df in segments.items()]\n",
    "result_df = pd.DataFrame(all_stats)\n",
    "\n",
    "display(result_df)\n",
    "pd.reset_option('display.max_colwidth')"
   ]
  },
  {
   "cell_type": "markdown",
   "id": "3fe36beb",
   "metadata": {},
   "source": [
    "## 1. О рынке\n",
    "\n",
    "**Рынок компактный:**\n",
    "- Всего 18 товаров в анализе\n",
    "- Цены колеблются от 220к до 1 650k руб\n",
    "\n",
    "Моделей ems-костюмов на рынке не много, данный вид товаров можно отнести в специализированному медицинскому оборудованию, соотвественно оно довольно узко представлено на рынке и стоит дорого. \n",
    "\n",
    "Минимальная цена за ems-костюм составляет 220к руб., максимальная 1 650к руб., средняя цена 1 117 294 руб.\n",
    "\n",
    "В основном производители иностранные, однако можно выделить Российскую компанию NobleRise, которая производит и продает данное оборудование по относительно доступной цене 269 000 руб."
   ]
  },
  {
   "cell_type": "code",
   "execution_count": 29,
   "id": "3fa0f05a",
   "metadata": {},
   "outputs": [
    {
     "name": "stderr",
     "output_type": "stream",
     "text": [
      "/var/folders/x5/m9f65fq57_1642g0ls7c0zxw0000gn/T/ipykernel_40318/1095736399.py:10: FutureWarning: \n",
      "\n",
      "Passing `palette` without assigning `hue` is deprecated and will be removed in v0.14.0. Assign the `x` variable to `hue` and set `legend=False` for the same effect.\n",
      "\n",
      "  sns.boxplot(\n"
     ]
    },
    {
     "data": {
      "image/png": "[encoded data removed]",
      "text/plain": [
       "<Figure size 1200x800 with 1 Axes>"
      ]
     },
     "metadata": {},
     "output_type": "display_data"
    }
   ],
   "source": [
    "clear_df = Goods.copy()\n",
    "\n",
    "boxplot_df = clear_df.dropna(subset=[\"brand\"])\n",
    "boxplot_df['brand'] = boxplot_df['brand'].str.strip().str.title()\n",
    "\n",
    "top_brands = boxplot_df['brand'].value_counts().head(20).index  # Топ-20 брендов\n",
    "df_filtered = boxplot_df[boxplot_df['brand'].isin(top_brands)]\n",
    "\n",
    "plt.figure(figsize=(12, 8))\n",
    "sns.boxplot(\n",
    "    data=df_filtered,\n",
    "    x='brand',\n",
    "    y='price',\n",
    "    palette='viridis'\n",
    ")\n",
    "plt.title('Распределение цен по брендам', fontsize=14)\n",
    "plt.xlabel('Бренд', fontsize=12)\n",
    "plt.ylabel('Цена (руб)', fontsize=12)\n",
    "plt.xticks(rotation=45, ha='right')  # Поворот подписей\n",
    "plt.grid(axis='y', linestyle='--', alpha=0.7)\n",
    "plt.show()"
   ]
  },
  {
   "cell_type": "code",
   "execution_count": 30,
   "id": "c73e2163",
   "metadata": {},
   "outputs": [
    {
     "data": {
      "text/plain": [
       "brand\n",
       "xbody         3\n",
       "justfit       2\n",
       "stimawell     2\n",
       "miha          1\n",
       "amplitrain    1\n",
       "loncego       1\n",
       "amplicube     1\n",
       "innline       1\n",
       "imotion       1\n",
       "aq8           1\n",
       "easy          1\n",
       "visionbody    1\n",
       "wiemspro      1\n",
       "noblerise     1\n",
       "Name: count, dtype: int64"
      ]
     },
     "execution_count": 30,
     "metadata": {},
     "output_type": "execute_result"
    }
   ],
   "source": [
    "Goods['brand'].value_counts().head(20)"
   ]
  },
  {
   "cell_type": "markdown",
   "id": "36f4c78b",
   "metadata": {},
   "source": [
    "Все товары данной категории брендированы производителем."
   ]
  },
  {
   "cell_type": "markdown",
   "id": "f2d41e71",
   "metadata": {},
   "source": [
    "## Реакция потребителей (Анализ отзывов и рейтингов)"
   ]
  },
  {
   "cell_type": "markdown",
   "id": "5a9b1aff",
   "metadata": {},
   "source": [
    "Что касается самых популярных характерстик:"
   ]
  },
  {
   "cell_type": "code",
   "execution_count": 31,
   "id": "f321561e",
   "metadata": {},
   "outputs": [],
   "source": [
    "def plot_top_main_specs(df, column, top_n, color):\n",
    "    spec_df = df[column].str.split('[;,/]', expand=True).stack().str.strip()\n",
    "\n",
    "    figsize = (15, 3)\n",
    "\n",
    "    plt.figure(figsize=figsize)\n",
    "    spec_df.value_counts().head(top_n).plot(kind='bar', color=color)\n",
    "    plt.title(f'Топ-{top_n} {column}')\n",
    "    plt.ylabel('Количество товаров')\n",
    "    plt.xticks(rotation=30)\n",
    "    plt.grid(axis='y', alpha=0.3)\n",
    "    plt.show()"
   ]
  },
  {
   "cell_type": "code",
   "execution_count": 32,
   "id": "b51d8e8e",
   "metadata": {},
   "outputs": [
    {
     "name": "stdout",
     "output_type": "stream",
     "text": [
      "<class 'pandas.core.frame.DataFrame'>\n",
      "RangeIndex: 15 entries, 0 to 14\n",
      "Data columns (total 7 columns):\n",
      " #   Column                                     Non-Null Count  Dtype \n",
      "---  ------                                     --------------  ----- \n",
      " 0   url                                        15 non-null     object\n",
      " 1   количество каналов                         14 non-null     object\n",
      " 2   съёмные электроды                          14 non-null     object\n",
      " 3   количество программ                        14 non-null     object\n",
      " 4   система учета                              14 non-null     object\n",
      " 5   страна производства                        14 non-null     object\n",
      " 6   срок службы костюмов при большой загрузке  12 non-null     object\n",
      "dtypes: object(7)\n",
      "memory usage: 972.0+ bytes\n"
     ]
    }
   ],
   "source": [
    "main_specs.info()"
   ]
  },
  {
   "cell_type": "code",
   "execution_count": 43,
   "id": "1666b7a2",
   "metadata": {},
   "outputs": [
    {
     "name": "stdout",
     "output_type": "stream",
     "text": [
      "Процент костюмов со съемными электродами: 64.28571428571429\n",
      "Процент костюмов с стистемой контроля: 78.57142857142857\n"
     ]
    }
   ],
   "source": [
    "percent_removable_electrodes = (len(main_specs[main_specs['съёмные электроды'] == '✔']) / (len(main_specs) - 1)) * 100 \n",
    "percent_control_system = (len(main_specs[main_specs['система учета'] == '✔']) / (len(main_specs) - 1)) * 100\n",
    "\n",
    "print(f'Процент костюмов со съемными электродами: {percent_removable_electrodes}')\n",
    "print(f'Процент костюмов с стистемой контроля: {percent_control_system}')"
   ]
  },
  {
   "cell_type": "code",
   "execution_count": 35,
   "id": "edb31d66",
   "metadata": {},
   "outputs": [
    {
     "data": {
      "image/png": "[encoded data removed]",
      "text/plain": [
       "<Figure size 1500x300 with 1 Axes>"
      ]
     },
     "metadata": {},
     "output_type": "display_data"
    },
    {
     "data": {
      "image/png": "[encoded data removed]",
      "text/plain": [
       "<Figure size 1500x300 with 1 Axes>"
      ]
     },
     "metadata": {},
     "output_type": "display_data"
    }
   ],
   "source": [
    "plot_top_main_specs(main_specs, 'количество каналов', 10, 'skyblue')\n",
    "plot_top_main_specs(main_specs, 'количество программ', 10, 'salmon')"
   ]
  },
  {
   "cell_type": "markdown",
   "id": "2457ca0c",
   "metadata": {},
   "source": [
    "Основную часть рынка составляют костюмы с 10 каналами, 4 программами, имеющие съемные электроды и систему контроля."
   ]
  },
  {
   "cell_type": "markdown",
   "id": "96092aaf",
   "metadata": {},
   "source": [
    "Высоким рейтингом обладают товары среднего ценового сегмента."
   ]
  },
  {
   "cell_type": "markdown",
   "id": "358355ef",
   "metadata": {},
   "source": [
    "## Выводы:\n",
    "\n",
    "Идеальный продукт выглядит так: костюм с 10 каналами, 4 программами, имеющий съемные электроды и систему контроля.\n",
    "\n",
    "Конкуренция на рынке низкая, поскольку продажами товаров данной категории занимаются немногочисленные специализрованные магазины и проихводители."
   ]
  }
 ],
 "metadata": {
  "kernelspec": {
   "display_name": "electropunk",
   "language": "python",
   "name": "python3"
  },
  "language_info": {
   "codemirror_mode": {
    "name": "ipython",
    "version": 3
   },
   "file_extension": ".py",
   "mimetype": "text/x-python",
   "name": "python",
   "nbconvert_exporter": "python",
   "pygments_lexer": "ipython3",
   "version": "3.11.13"
  }
 },
 "nbformat": 4,
 "nbformat_minor": 5
}
